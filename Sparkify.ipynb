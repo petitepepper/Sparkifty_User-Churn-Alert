{
 "cells": [
  {
   "cell_type": "markdown",
   "metadata": {},
   "source": [
    "# Sparkify Project Workspace\n",
    "This workspace contains a tiny subset (128MB) of the full dataset available (12GB). Feel free to use this workspace to build your project, or to explore a smaller subset with Spark before deploying your cluster on the cloud. Instructions for setting up your Spark cluster is included in the last lesson of the Extracurricular Spark Course content.\n",
    "\n",
    "You can follow the steps below to guide your data analysis and model building portion of this project."
   ]
  },
  {
   "cell_type": "code",
   "execution_count": 1,
   "metadata": {},
   "outputs": [],
   "source": [
    "# import libraries\n",
    "from pyspark.sql import SparkSession\n",
    "from pyspark.sql import Window\n",
    "from pyspark.sql.functions import udf,col,mean,count,when,isnan,isnull\n",
    "from pyspark.sql.functions import max as Fmax\n",
    "from pyspark.sql.functions import to_date,datediff,date_sub\n",
    "from pyspark.sql.types import IntegerType,TimestampType,DateType\n",
    "\n",
    "import numpy as np\n",
    "import pandas as pd\n",
    "from datetime import datetime, timedelta\n",
    "import matplotlib.pyplot as plt \n",
    "%matplotlib inline"
   ]
  },
  {
   "cell_type": "code",
   "execution_count": 2,
   "metadata": {},
   "outputs": [],
   "source": [
    "# create a Spark session\n",
    "spark = SparkSession.builder \\\n",
    "    .master(\"local\") \\\n",
    "    .appName(\"Sparkify\") \\\n",
    "    .getOrCreate()"
   ]
  },
  {
   "cell_type": "markdown",
   "metadata": {},
   "source": [
    "# 1. Load and Clean Dataset\n",
    "In this workspace, the mini-dataset file is `mini_sparkify_event_data.json`. Load and clean the dataset, checking for invalid or missing data - for example, records without userids or sessionids. "
   ]
  },
  {
   "cell_type": "code",
   "execution_count": 3,
   "metadata": {},
   "outputs": [
    {
     "data": {
      "text/plain": [
       "DataFrame[artist: string, auth: string, firstName: string, gender: string, itemInSession: bigint, lastName: string, length: double, level: string, location: string, method: string, page: string, registration: bigint, sessionId: bigint, song: string, status: bigint, ts: bigint, userAgent: string, userId: string]"
      ]
     },
     "execution_count": 3,
     "metadata": {},
     "output_type": "execute_result"
    }
   ],
   "source": [
    "sparkify_data = \"mini_sparkify_event_data.json\"\n",
    "df = spark.read.json(sparkify_data)\n",
    "df.persist()"
   ]
  },
  {
   "cell_type": "markdown",
   "metadata": {},
   "source": [
    "## 1.1 Check structure and number of records"
   ]
  },
  {
   "cell_type": "code",
   "execution_count": 4,
   "metadata": {},
   "outputs": [
    {
     "name": "stdout",
     "output_type": "stream",
     "text": [
      "root\n",
      " |-- artist: string (nullable = true)\n",
      " |-- auth: string (nullable = true)\n",
      " |-- firstName: string (nullable = true)\n",
      " |-- gender: string (nullable = true)\n",
      " |-- itemInSession: long (nullable = true)\n",
      " |-- lastName: string (nullable = true)\n",
      " |-- length: double (nullable = true)\n",
      " |-- level: string (nullable = true)\n",
      " |-- location: string (nullable = true)\n",
      " |-- method: string (nullable = true)\n",
      " |-- page: string (nullable = true)\n",
      " |-- registration: long (nullable = true)\n",
      " |-- sessionId: long (nullable = true)\n",
      " |-- song: string (nullable = true)\n",
      " |-- status: long (nullable = true)\n",
      " |-- ts: long (nullable = true)\n",
      " |-- userAgent: string (nullable = true)\n",
      " |-- userId: string (nullable = true)\n",
      "\n"
     ]
    }
   ],
   "source": [
    "df.printSchema()"
   ]
  },
  {
   "cell_type": "code",
   "execution_count": 5,
   "metadata": {},
   "outputs": [
    {
     "data": {
      "text/plain": [
       "Row(artist='Martha Tilston', auth='Logged In', firstName='Colin', gender='M', itemInSession=50, lastName='Freeman', length=277.89016, level='paid', location='Bakersfield, CA', method='PUT', page='NextSong', registration=1538173362000, sessionId=29, song='Rockpools', status=200, ts=1538352117000, userAgent='Mozilla/5.0 (Windows NT 6.1; WOW64; rv:31.0) Gecko/20100101 Firefox/31.0', userId='30')"
      ]
     },
     "execution_count": 5,
     "metadata": {},
     "output_type": "execute_result"
    }
   ],
   "source": [
    "df.head()"
   ]
  },
  {
   "cell_type": "code",
   "execution_count": 6,
   "metadata": {},
   "outputs": [
    {
     "data": {
      "text/plain": [
       "286500"
      ]
     },
     "execution_count": 6,
     "metadata": {},
     "output_type": "execute_result"
    }
   ],
   "source": [
    "# number of records\n",
    "df.count()"
   ]
  },
  {
   "cell_type": "code",
   "execution_count": 7,
   "metadata": {},
   "outputs": [
    {
     "data": {
      "text/plain": [
       "226"
      ]
     },
     "execution_count": 7,
     "metadata": {},
     "output_type": "execute_result"
    }
   ],
   "source": [
    "# the number of users in the dataset\n",
    "df.select(\"userId\").distinct().count()"
   ]
  },
  {
   "cell_type": "markdown",
   "metadata": {},
   "source": [
    "## 1.2 Check `nan` and `null` value"
   ]
  },
  {
   "cell_type": "code",
   "execution_count": 8,
   "metadata": {},
   "outputs": [
    {
     "name": "stdout",
     "output_type": "stream",
     "text": [
      "+------+----+---------+------+-------------+--------+------+-----+--------+------+----+------------+---------+----+------+---+---------+------+\n",
      "|artist|auth|firstName|gender|itemInSession|lastName|length|level|location|method|page|registration|sessionId|song|status| ts|userAgent|userId|\n",
      "+------+----+---------+------+-------------+--------+------+-----+--------+------+----+------------+---------+----+------+---+---------+------+\n",
      "|     0|   0|        0|     0|            0|       0|     0|    0|       0|     0|   0|           0|        0|   0|     0|  0|        0|     0|\n",
      "+------+----+---------+------+-------------+--------+------+-----+--------+------+----+------------+---------+----+------+---+---------+------+\n",
      "\n"
     ]
    }
   ],
   "source": [
    "# check nan\n",
    "df.select([count(when(isnan(c), c)).alias(c) for c in df.columns]).show()"
   ]
  },
  {
   "cell_type": "code",
   "execution_count": 9,
   "metadata": {},
   "outputs": [
    {
     "name": "stdout",
     "output_type": "stream",
     "text": [
      "+------+----+---------+------+-------------+--------+------+-----+--------+------+----+------------+---------+-----+------+---+---------+------+\n",
      "|artist|auth|firstName|gender|itemInSession|lastName|length|level|location|method|page|registration|sessionId| song|status| ts|userAgent|userId|\n",
      "+------+----+---------+------+-------------+--------+------+-----+--------+------+----+------------+---------+-----+------+---+---------+------+\n",
      "| 58392|   0|     8346|  8346|            0|    8346| 58392|    0|    8346|     0|   0|        8346|        0|58392|     0|  0|     8346|     0|\n",
      "+------+----+---------+------+-------------+--------+------+-----+--------+------+----+------------+---------+-----+------+---+---------+------+\n",
      "\n"
     ]
    }
   ],
   "source": [
    "# check null\n",
    "df.select([count(when(isnull(c), c)).alias(c) for c in df.columns]).show()"
   ]
  },
  {
   "cell_type": "markdown",
   "metadata": {},
   "source": [
    "From above we can find that, there are 8346 items where personal information (`firstName`,`lastName`,`gender`,`location`,`useraAgent`)is not recorded, it's very possible that they belongs to the same group of users "
   ]
  },
  {
   "cell_type": "code",
   "execution_count": 10,
   "metadata": {},
   "outputs": [
    {
     "name": "stdout",
     "output_type": "stream",
     "text": [
      "+------+\n",
      "|userId|\n",
      "+------+\n",
      "|      |\n",
      "+------+\n",
      "\n"
     ]
    }
   ],
   "source": [
    "df.select('userId').where(isnull(col('registration'))).distinct().show()"
   ]
  },
  {
   "cell_type": "markdown",
   "metadata": {},
   "source": [
    "As expected, the `userId` is \"\", so they may be the visitors. Next we'll remove these records."
   ]
  },
  {
   "cell_type": "code",
   "execution_count": 4,
   "metadata": {},
   "outputs": [
    {
     "name": "stdout",
     "output_type": "stream",
     "text": [
      "+------+----+---------+------+-------------+--------+------+-----+--------+------+----+------------+---------+-----+------+---+---------+------+\n",
      "|artist|auth|firstName|gender|itemInSession|lastName|length|level|location|method|page|registration|sessionId| song|status| ts|userAgent|userId|\n",
      "+------+----+---------+------+-------------+--------+------+-----+--------+------+----+------------+---------+-----+------+---+---------+------+\n",
      "| 50046|   0|        0|     0|            0|       0| 50046|    0|       0|     0|   0|           0|        0|50046|     0|  0|        0|     0|\n",
      "+------+----+---------+------+-------------+--------+------+-----+--------+------+----+------------+---------+-----+------+---+---------+------+\n",
      "\n"
     ]
    }
   ],
   "source": [
    "df = df.filter(col(\"userId\")!=\"\")\n",
    "df.select([count(when(isnull(c), c)).alias(c) for c in df.columns]).show()"
   ]
  },
  {
   "cell_type": "markdown",
   "metadata": {},
   "source": [
    "# 2. Exploratory Data Analysis\n",
    "When you're working with the full dataset, perform EDA by loading a small subset of the data and doing basic manipulations within Spark. In this workspace, you are already provided a small subset of data you can explore.\n"
   ]
  },
  {
   "cell_type": "code",
   "execution_count": 13,
   "metadata": {},
   "outputs": [
    {
     "name": "stdout",
     "output_type": "stream",
     "text": [
      "+---------+------+\n",
      "|     auth| count|\n",
      "+---------+------+\n",
      "|Cancelled|    52|\n",
      "|Logged In|278102|\n",
      "+---------+------+\n",
      "\n"
     ]
    }
   ],
   "source": [
    "df.groupBy(\"auth\").count().show()"
   ]
  },
  {
   "cell_type": "code",
   "execution_count": 14,
   "metadata": {
    "scrolled": true
   },
   "outputs": [
    {
     "name": "stdout",
     "output_type": "stream",
     "text": [
      "+-----+------+\n",
      "|level| count|\n",
      "+-----+------+\n",
      "| free| 55721|\n",
      "| paid|222433|\n",
      "+-----+------+\n",
      "\n"
     ]
    }
   ],
   "source": [
    "df.groupBy(\"level\").count().show()"
   ]
  },
  {
   "cell_type": "code",
   "execution_count": 15,
   "metadata": {},
   "outputs": [
    {
     "name": "stdout",
     "output_type": "stream",
     "text": [
      "+--------------------+------+------+\n",
      "|                page|status| count|\n",
      "+--------------------+------+------+\n",
      "|           Downgrade|   200|  2055|\n",
      "|       Save Settings|   307|   310|\n",
      "|                Help|   200|  1454|\n",
      "|Cancellation Conf...|   200|    52|\n",
      "|            Settings|   200|  1514|\n",
      "|          Add Friend|   307|  4277|\n",
      "|             Upgrade|   200|   499|\n",
      "|         Roll Advert|   200|  3933|\n",
      "|      Submit Upgrade|   307|   159|\n",
      "|               Error|   404|   252|\n",
      "|                Home|   200| 10082|\n",
      "|               About|   200|   495|\n",
      "|     Add to Playlist|   200|  6526|\n",
      "|              Logout|   307|  3226|\n",
      "|         Thumbs Down|   307|  2546|\n",
      "|              Cancel|   307|    52|\n",
      "|           Thumbs Up|   307| 12551|\n",
      "|            NextSong|   200|228108|\n",
      "|    Submit Downgrade|   307|    63|\n",
      "+--------------------+------+------+\n",
      "\n"
     ]
    }
   ],
   "source": [
    "df.select('page','status')\\\n",
    "  .groupBy('page','status')\\\n",
    "  .count().show()"
   ]
  },
  {
   "cell_type": "code",
   "execution_count": 16,
   "metadata": {},
   "outputs": [
    {
     "data": {
      "text/plain": [
       "52"
      ]
     },
     "execution_count": 16,
     "metadata": {},
     "output_type": "execute_result"
    }
   ],
   "source": [
    "# check if `Cancel` and `Cancellation Confirmation` refers to the same users\n",
    "df.select('userId')\\\n",
    ".where(col(\"page\")==\"Cancel\")\\\n",
    ".distinct()\\\n",
    ".alias(\"id_cancel\")\\\n",
    ".union(\n",
    "    df.select('userId')\\\n",
    "    .where(col(\"page\")==\"Cancellation Confirmation\")\\\n",
    "    .alias(\"id_calcel_confirm\")\\\n",
    "    .distinct()\n",
    ").distinct().count()"
   ]
  },
  {
   "cell_type": "markdown",
   "metadata": {},
   "source": [
    "From the result above, `Cancel` should be a prompt notification page, and those who successfully canceled the services may be directed to the `Cancellation Confirmation` page."
   ]
  },
  {
   "cell_type": "markdown",
   "metadata": {},
   "source": [
    "\n",
    "## 2.1 Define Churn\n",
    "\n",
    "Once you've done some preliminary analysis, create a column `Churn` to use as the label for your model. I suggest using the `Cancellation Confirmation` events to define your churn, which happen for both paid and free users. As a bonus task, you can also look into the `Downgrade` events.\n"
   ]
  },
  {
   "cell_type": "code",
   "execution_count": 5,
   "metadata": {},
   "outputs": [
    {
     "data": {
      "text/plain": [
       "Row(artist='Martha Tilston', auth='Logged In', firstName='Colin', gender='M', itemInSession=50, lastName='Freeman', length=277.89016, level='paid', location='Bakersfield, CA', method='PUT', page='NextSong', registration=1538173362000, sessionId=29, song='Rockpools', status=200, ts=1538352117000, userAgent='Mozilla/5.0 (Windows NT 6.1; WOW64; rv:31.0) Gecko/20100101 Firefox/31.0', userId='30', Churn=0)"
      ]
     },
     "execution_count": 5,
     "metadata": {},
     "output_type": "execute_result"
    }
   ],
   "source": [
    "churned_users = df.select('userId').where(col(\"page\")==\"Cancellation Confirmation\").distinct().collect()\n",
    "churned_users = [x.userId for x in churned_users]\n",
    "churned_user_fun = udf(lambda x: 1 if x in churned_users else 0,IntegerType())\n",
    "\n",
    "df = df.withColumn(\"Churn\",churned_user_fun(\"userId\"))\n",
    "df.head()"
   ]
  },
  {
   "cell_type": "code",
   "execution_count": 18,
   "metadata": {},
   "outputs": [
    {
     "data": {
      "text/plain": [
       "52"
      ]
     },
     "execution_count": 18,
     "metadata": {},
     "output_type": "execute_result"
    }
   ],
   "source": [
    "len(churned_users)"
   ]
  },
  {
   "cell_type": "markdown",
   "metadata": {},
   "source": [
    "## 2.2 Explore Data\n",
    "Once you've defined churn, perform some exploratory data analysis to observe the behavior for users who stayed vs users who churned. You can start by exploring aggregates on these two groups of users, observing how much of a specific action they experienced per a certain time unit or number of songs played."
   ]
  },
  {
   "cell_type": "markdown",
   "metadata": {},
   "source": [
    "### 1) Page uses"
   ]
  },
  {
   "cell_type": "code",
   "execution_count": 19,
   "metadata": {},
   "outputs": [],
   "source": [
    "# page \n",
    "pages_existing = df.select('userId','page').where(col(\"Churn\")==0).groupby('page').count().toPandas()\n",
    "pages_churned  = df.select('userId','page').where(col(\"Churn\")==1).groupby('page').count().toPandas()\n",
    "\n",
    "pages_existing['proportion_eu']=pages_existing['count']/pages_existing['count'].sum()*100\n",
    "pages_churned['proportion_cu'] =pages_churned['count'] /pages_churned['count'].sum()*100\n",
    "pages = pages_churned.merge(pages_existing,on=\"page\")"
   ]
  },
  {
   "cell_type": "code",
   "execution_count": 22,
   "metadata": {},
   "outputs": [
    {
     "data": {
      "text/html": [
       "<div>\n",
       "<style scoped>\n",
       "    .dataframe tbody tr th:only-of-type {\n",
       "        vertical-align: middle;\n",
       "    }\n",
       "\n",
       "    .dataframe tbody tr th {\n",
       "        vertical-align: top;\n",
       "    }\n",
       "\n",
       "    .dataframe thead th {\n",
       "        text-align: right;\n",
       "    }\n",
       "</style>\n",
       "<table border=\"1\" class=\"dataframe\">\n",
       "  <thead>\n",
       "    <tr style=\"text-align: right;\">\n",
       "      <th></th>\n",
       "      <th>page</th>\n",
       "      <th>count_x</th>\n",
       "      <th>proportion_cu</th>\n",
       "      <th>count_y</th>\n",
       "      <th>proportion_eu</th>\n",
       "    </tr>\n",
       "  </thead>\n",
       "  <tbody>\n",
       "    <tr>\n",
       "      <th>0</th>\n",
       "      <td>Submit Downgrade</td>\n",
       "      <td>9</td>\n",
       "      <td>0.020061</td>\n",
       "      <td>54</td>\n",
       "      <td>0.023147</td>\n",
       "    </tr>\n",
       "    <tr>\n",
       "      <th>1</th>\n",
       "      <td>Thumbs Down</td>\n",
       "      <td>496</td>\n",
       "      <td>1.105563</td>\n",
       "      <td>2050</td>\n",
       "      <td>0.878735</td>\n",
       "    </tr>\n",
       "    <tr>\n",
       "      <th>2</th>\n",
       "      <td>Home</td>\n",
       "      <td>1672</td>\n",
       "      <td>3.726819</td>\n",
       "      <td>8410</td>\n",
       "      <td>3.604955</td>\n",
       "    </tr>\n",
       "    <tr>\n",
       "      <th>3</th>\n",
       "      <td>Downgrade</td>\n",
       "      <td>337</td>\n",
       "      <td>0.751159</td>\n",
       "      <td>1718</td>\n",
       "      <td>0.736422</td>\n",
       "    </tr>\n",
       "    <tr>\n",
       "      <th>4</th>\n",
       "      <td>Roll Advert</td>\n",
       "      <td>967</td>\n",
       "      <td>2.155403</td>\n",
       "      <td>2966</td>\n",
       "      <td>1.271379</td>\n",
       "    </tr>\n",
       "    <tr>\n",
       "      <th>5</th>\n",
       "      <td>Logout</td>\n",
       "      <td>553</td>\n",
       "      <td>1.232614</td>\n",
       "      <td>2673</td>\n",
       "      <td>1.145784</td>\n",
       "    </tr>\n",
       "    <tr>\n",
       "      <th>6</th>\n",
       "      <td>Save Settings</td>\n",
       "      <td>58</td>\n",
       "      <td>0.129280</td>\n",
       "      <td>252</td>\n",
       "      <td>0.108020</td>\n",
       "    </tr>\n",
       "    <tr>\n",
       "      <th>7</th>\n",
       "      <td>About</td>\n",
       "      <td>56</td>\n",
       "      <td>0.124822</td>\n",
       "      <td>439</td>\n",
       "      <td>0.188178</td>\n",
       "    </tr>\n",
       "    <tr>\n",
       "      <th>8</th>\n",
       "      <td>Settings</td>\n",
       "      <td>270</td>\n",
       "      <td>0.601819</td>\n",
       "      <td>1244</td>\n",
       "      <td>0.533242</td>\n",
       "    </tr>\n",
       "    <tr>\n",
       "      <th>9</th>\n",
       "      <td>Add to Playlist</td>\n",
       "      <td>1038</td>\n",
       "      <td>2.313659</td>\n",
       "      <td>5488</td>\n",
       "      <td>2.352437</td>\n",
       "    </tr>\n",
       "    <tr>\n",
       "      <th>10</th>\n",
       "      <td>Add Friend</td>\n",
       "      <td>636</td>\n",
       "      <td>1.417618</td>\n",
       "      <td>3641</td>\n",
       "      <td>1.560718</td>\n",
       "    </tr>\n",
       "    <tr>\n",
       "      <th>11</th>\n",
       "      <td>NextSong</td>\n",
       "      <td>36394</td>\n",
       "      <td>81.120720</td>\n",
       "      <td>191714</td>\n",
       "      <td>82.178405</td>\n",
       "    </tr>\n",
       "    <tr>\n",
       "      <th>12</th>\n",
       "      <td>Thumbs Up</td>\n",
       "      <td>1859</td>\n",
       "      <td>4.143634</td>\n",
       "      <td>10692</td>\n",
       "      <td>4.583137</td>\n",
       "    </tr>\n",
       "    <tr>\n",
       "      <th>13</th>\n",
       "      <td>Help</td>\n",
       "      <td>239</td>\n",
       "      <td>0.532721</td>\n",
       "      <td>1215</td>\n",
       "      <td>0.520811</td>\n",
       "    </tr>\n",
       "    <tr>\n",
       "      <th>14</th>\n",
       "      <td>Upgrade</td>\n",
       "      <td>112</td>\n",
       "      <td>0.249643</td>\n",
       "      <td>387</td>\n",
       "      <td>0.165888</td>\n",
       "    </tr>\n",
       "    <tr>\n",
       "      <th>15</th>\n",
       "      <td>Error</td>\n",
       "      <td>32</td>\n",
       "      <td>0.071327</td>\n",
       "      <td>220</td>\n",
       "      <td>0.094303</td>\n",
       "    </tr>\n",
       "    <tr>\n",
       "      <th>16</th>\n",
       "      <td>Submit Upgrade</td>\n",
       "      <td>32</td>\n",
       "      <td>0.071327</td>\n",
       "      <td>127</td>\n",
       "      <td>0.054439</td>\n",
       "    </tr>\n",
       "  </tbody>\n",
       "</table>\n",
       "</div>"
      ],
      "text/plain": [
       "                page  count_x  proportion_cu  count_y  proportion_eu\n",
       "0   Submit Downgrade        9       0.020061       54       0.023147\n",
       "1        Thumbs Down      496       1.105563     2050       0.878735\n",
       "2               Home     1672       3.726819     8410       3.604955\n",
       "3          Downgrade      337       0.751159     1718       0.736422\n",
       "4        Roll Advert      967       2.155403     2966       1.271379\n",
       "5             Logout      553       1.232614     2673       1.145784\n",
       "6      Save Settings       58       0.129280      252       0.108020\n",
       "7              About       56       0.124822      439       0.188178\n",
       "8           Settings      270       0.601819     1244       0.533242\n",
       "9    Add to Playlist     1038       2.313659     5488       2.352437\n",
       "10        Add Friend      636       1.417618     3641       1.560718\n",
       "11          NextSong    36394      81.120720   191714      82.178405\n",
       "12         Thumbs Up     1859       4.143634    10692       4.583137\n",
       "13              Help      239       0.532721     1215       0.520811\n",
       "14           Upgrade      112       0.249643      387       0.165888\n",
       "15             Error       32       0.071327      220       0.094303\n",
       "16    Submit Upgrade       32       0.071327      127       0.054439"
      ]
     },
     "execution_count": 22,
     "metadata": {},
     "output_type": "execute_result"
    }
   ],
   "source": [
    "pages"
   ]
  },
  {
   "cell_type": "code",
   "execution_count": 24,
   "metadata": {},
   "outputs": [
    {
     "data": {
      "text/plain": [
       "<function matplotlib.pyplot.show(close=None, block=None)>"
      ]
     },
     "execution_count": 24,
     "metadata": {},
     "output_type": "execute_result"
    },
    {
     "data": {
      "image/png": "[encoded data removed]",
      "text/plain": [
       "<Figure size 432x288 with 1 Axes>"
      ]
     },
     "metadata": {
      "needs_background": "light"
     },
     "output_type": "display_data"
    }
   ],
   "source": [
    "plt.bar(pages['page'],pages['proportion_cu'],label=\"churned_user\",alpha=0.5)\n",
    "plt.bar(pages['page'],pages['proportion_eu'],label=\"existing_user\",alpha=0.5)\n",
    "plt.title(\"Page Proportion\")\n",
    "plt.ylabel(\"percentage(%)\")\n",
    "plt.xticks(rotation=90)\n",
    "plt.legend()\n",
    "plt.grid()\n",
    "plt.show"
   ]
  },
  {
   "cell_type": "markdown",
   "metadata": {},
   "source": [
    "We can see that `NextSong` is the most frequent choice for both kinds of users. Since its proportion it too high compared with others, we drop it and see if there's any other significant difference between the two group. "
   ]
  },
  {
   "cell_type": "code",
   "execution_count": 25,
   "metadata": {},
   "outputs": [
    {
     "data": {
      "text/plain": [
       "<function matplotlib.pyplot.show(close=None, block=None)>"
      ]
     },
     "execution_count": 25,
     "metadata": {},
     "output_type": "execute_result"
    },
    {
     "data": {
      "image/png": "[encoded data removed]",
      "text/plain": [
       "<Figure size 432x288 with 1 Axes>"
      ]
     },
     "metadata": {
      "needs_background": "light"
     },
     "output_type": "display_data"
    }
   ],
   "source": [
    "pages_small = pages[pages['page']!=\"NextSong\" ]\n",
    "plt.bar(pages_small['page'],pages_small['proportion_cu'],label=\"churned_user\",alpha=0.5)\n",
    "plt.bar(pages_small['page'],pages_small['proportion_eu'],label=\"existing_user\",alpha=0.5)\n",
    "plt.title(\"Page Proportion (except `NextSong` page)\")\n",
    "plt.ylabel(\"percentage(%)\")\n",
    "plt.xticks(rotation=90)\n",
    "plt.legend()\n",
    "plt.grid()\n",
    "plt.show"
   ]
  },
  {
   "cell_type": "markdown",
   "metadata": {},
   "source": [
    "Clearly, churned users seem to have more negative actions(`Thumbs Down`,`Roll Advert`), while existing users have more positive actions(`Add Friend`,`Thumb Up`)"
   ]
  },
  {
   "cell_type": "markdown",
   "metadata": {},
   "source": [
    "### 2) Usage Duration\n",
    "\n"
   ]
  },
  {
   "cell_type": "code",
   "execution_count": 23,
   "metadata": {},
   "outputs": [],
   "source": [
    "len_existing = df.select('userId','length').where(col(\"Churn\")==0).groupby('userId').agg(mean(\"length\")).toPandas()\n",
    "len_churned  = df.select('userId','length').where(col(\"Churn\")==1).groupby('userId').agg(mean(\"length\")).toPandas()"
   ]
  },
  {
   "cell_type": "code",
   "execution_count": 24,
   "metadata": {},
   "outputs": [
    {
     "data": {
      "image/png": "[encoded data removed]",
      "text/plain": [
       "<Figure size 432x288 with 1 Axes>"
      ]
     },
     "metadata": {
      "needs_background": "light"
     },
     "output_type": "display_data"
    }
   ],
   "source": [
    "plt.hist(len_churned['avg(length)'],bins=25,label=\"churned user\",alpha=0.5)\n",
    "plt.hist(len_existing['avg(length)'],bins=25,label=\"existing user\",alpha=0.5)\n",
    "plt.xticks(rotation=90)\n",
    "plt.xlabel(\"min\")\n",
    "plt.ylabel(\"count\")\n",
    "plt.title(\"Histogram of average usage duration\")\n",
    "plt.legend()\n",
    "plt.show()"
   ]
  },
  {
   "cell_type": "code",
   "execution_count": 25,
   "metadata": {},
   "outputs": [
    {
     "name": "stdout",
     "output_type": "stream",
     "text": [
      "Usage duration (min)\n",
      "[Existing users] mean:249.1412535406481, median:249.16812640511915 \n",
      "[Churned  users] mean:248.30786496247958, median:248.28066978737792 \n"
     ]
    }
   ],
   "source": [
    "cu_len_mean,cu_len_mid = np.mean(len_churned['avg(length)']), np.median(len_churned['avg(length)'])\n",
    "eu_len_mean,eu_len_mid = np.mean(len_existing['avg(length)']), np.median(len_existing['avg(length)'])\n",
    "\n",
    "print(\"Usage duration (min)\")\n",
    "print(f\"[Existing users] mean:{eu_len_mean}, median:{eu_len_mid} \") \n",
    "print(f\"[Churned  users] mean:{cu_len_mean}, median:{cu_len_mid} \")"
   ]
  },
  {
   "cell_type": "markdown",
   "metadata": {},
   "source": [
    "Churned users spend slightly less time than existing users."
   ]
  },
  {
   "cell_type": "markdown",
   "metadata": {},
   "source": [
    "# 3. Feature Engineering\n",
    "Once you've familiarized yourself with the data, build out the features you find promising to train your model on. To work with the full dataset, you can follow the following steps.\n",
    "- Write a **script** to extract the necessary features from the smaller subset of data\n",
    "- Ensure that your script is scalable, using the best practices discussed in Lesson 3\n",
    "- Try your script on the full data set, debugging your script if necessary\n",
    "\n",
    "If you are working in the classroom workspace, you can just extract features based on the small subset of data contained here. Be sure to transfer over this work to the larger dataset when you work on your Spark cluster."
   ]
  },
  {
   "cell_type": "markdown",
   "metadata": {},
   "source": [
    "## 3.1 Transform timestamp to datetime"
   ]
  },
  {
   "cell_type": "code",
   "execution_count": 7,
   "metadata": {},
   "outputs": [
    {
     "data": {
      "text/plain": [
       "Row(artist='Martha Tilston', auth='Logged In', firstName='Colin', gender='M', itemInSession=50, lastName='Freeman', length=277.89016, level='paid', location='Bakersfield, CA', method='PUT', page='NextSong', registration=1538173362000, sessionId=29, song='Rockpools', status=200, ts=1538352117000, userAgent='Mozilla/5.0 (Windows NT 6.1; WOW64; rv:31.0) Gecko/20100101 Firefox/31.0', userId='30', Churn=0, registration_date=datetime.date(2018, 9, 29), event_date=datetime.date(2018, 10, 1))"
      ]
     },
     "execution_count": 7,
     "metadata": {},
     "output_type": "execute_result"
    }
   ],
   "source": [
    "ts_to_date = udf(lambda x: datetime.fromtimestamp(x/1000.0), DateType())\n",
    "df = df.withColumn('registration_date',ts_to_date(col(\"registration\")))\n",
    "df = df.withColumn('event_date',ts_to_date(col(\"ts\")))\n",
    "df.head()"
   ]
  },
  {
   "cell_type": "markdown",
   "metadata": {},
   "source": [
    "##  3.2 Features needed for modeling\n",
    "\n",
    "1. User's personal information:\n",
    "   - gender\n",
    "   \n",
    "   \n",
    "2. User account status:\n",
    "   - Tenure (number of days since registration)\n",
    "   - Number of active days\n",
    "   - Level: `1` for `paid`, `0` for `free`\n",
    "   - Change of service\n",
    "     - Upgrade(page:`Submit Upgrade`): `1` for yes, `0` for no\n",
    "     - Downgrade(page:`Submit Downgrade`): `1` for yes, `0` for no\n",
    "       \n",
    "       \n",
    "3. Usage information:\n",
    "   - Average length of use during the current window period\n",
    "   - Change in average usage duration  `length`\n",
    "   - Change in average items number `itemInSession`\n",
    "   - Change in the number of pages visited \n",
    "     - negative feelings (`Thumbs Down`)\n",
    "     - positive feelings (`Thumbs Up`)\n",
    "     - errors (`Error`)\n",
    "     - socialization (`Add Friend`)\n",
    "     - advert (`Roll Advert`)\n",
    "     - add to play list (`Add to Playlist`)\n",
    "\n",
    "> The \"change\" above is compared to the previous window period \n",
    "\n"
   ]
  },
  {
   "cell_type": "markdown",
   "metadata": {},
   "source": [
    "--- \n",
    "\n",
    "1. User's personal information\n"
   ]
  },
  {
   "cell_type": "code",
   "execution_count": 6,
   "metadata": {},
   "outputs": [],
   "source": [
    "# gender : `1` for male, `0` for female\n",
    "gender_fun = udf(lambda x:1 if x==\"M\" else 0, IntegerType()) \n",
    "user_mat   = df.withColumn(\"gender_flag\",gender_fun(col(\"gender\")))\\\n",
    "                .select(\"userId\",\"gender_flag\")\\\n",
    "                .distinct()"
   ]
  },
  {
   "cell_type": "markdown",
   "metadata": {},
   "source": [
    "----\n",
    "2. User account status"
   ]
  },
  {
   "cell_type": "code",
   "execution_count": 8,
   "metadata": {},
   "outputs": [],
   "source": [
    "# prework : registration date\n",
    "regist = df.select(\"userId\",\"registration_date\").distinct()\n",
    "user_mat = user_mat.join(regist,on=[\"userId\"],how=\"left\")\n",
    "\n",
    "\n",
    "# prework : find most recent event date\n",
    "most_resent = df.select(\"userId\",\"event_date\")\\\n",
    "                .groupBy(\"userId\")\\\n",
    "                .agg(Fmax(\"event_date\"))\\\n",
    "                .withColumnRenamed(\"max(event_date)\",\"most_resent\")\n",
    "\n",
    "user_mat = user_mat.join(most_resent,on=[\"userId\"],how=\"left\")"
   ]
  },
  {
   "cell_type": "code",
   "execution_count": 9,
   "metadata": {},
   "outputs": [],
   "source": [
    "# (1) tenure\n",
    "user_mat = user_mat.withColumn('tenure',\n",
    "                               datediff(\n",
    "                                   col(\"most_resent\"),\n",
    "                                   col(\"registration_date\")\n",
    "                               ))"
   ]
  },
  {
   "cell_type": "code",
   "execution_count": 10,
   "metadata": {},
   "outputs": [],
   "source": [
    "# (2) active_days\n",
    "active = df.select(\"userId\",\"event_date\")\\\n",
    "            .groupBy(\"userId\")\\\n",
    "            .count()\\\n",
    "            .withColumnRenamed(\"count\",\"active_days\")\n",
    "user_mat = user_mat.join(active,on=[\"userId\"],how=\"left\")"
   ]
  },
  {
   "cell_type": "code",
   "execution_count": 11,
   "metadata": {},
   "outputs": [],
   "source": [
    "# (3) level : `1` for `paid`, `0` for `free`\n",
    "level_fun = udf(lambda x : 1 if x==\"paid\" else 0, IntegerType())\n",
    "level = df.withColumn(\"level\",level_fun(col(\"level\")))\\\n",
    "            .select(\"userId\",\"level\")\\\n",
    "            .distinct()\n",
    "user_mat = user_mat.join(level,on=[\"userId\"],how=\"left\")"
   ]
  },
  {
   "cell_type": "code",
   "execution_count": 12,
   "metadata": {},
   "outputs": [],
   "source": [
    "# (4) change of service\n",
    "upgrated_fun   = udf(lambda x : 1 if x==\"Submit Upgrade\" else 0, IntegerType())\n",
    "downgrated_fun = udf(lambda x : 1 if x==\"Submit Downgrade\" else 0, IntegerType())\n",
    "\n",
    "df = df.withColumn(\"upgraded\",upgrated_fun(col(\"page\")))\n",
    "df = df.withColumn(\"downgraded\",downgrated_fun(col(\"page\")))\n",
    "\n",
    "service_change = df.select(\"userId\",\"upgraded\",\"downgraded\").distinct()\n",
    "user_mat = user_mat.join(service_change,on=[\"userId\"],how=\"left\")"
   ]
  },
  {
   "cell_type": "code",
   "execution_count": 13,
   "metadata": {},
   "outputs": [
    {
     "data": {
      "text/plain": [
       "Row(userId='73', gender_flag=0, registration_date=datetime.date(2018, 9, 5), most_resent=datetime.date(2018, 10, 24), tenure=49, active_days=457, level=1, upgraded=1, downgraded=0)"
      ]
     },
     "execution_count": 13,
     "metadata": {},
     "output_type": "execute_result"
    }
   ],
   "source": [
    "user_mat.head()"
   ]
  },
  {
   "cell_type": "markdown",
   "metadata": {},
   "source": [
    "---\n",
    "3. Userage information  "
   ]
  },
  {
   "cell_type": "code",
   "execution_count": 19,
   "metadata": {},
   "outputs": [],
   "source": [
    "def get_date_point(df,col_name:str,period=14):\n",
    "    \"\"\"\n",
    "    Get the date point of a given period beform the most recent date\n",
    "    \n",
    "    INPUT\n",
    "    @df       : a pyspark dataframe that contains all the activities and their event_date\n",
    "    @col_name : str, the event to be chosen\n",
    "    @period   : int, period(day) before the most resent event\n",
    "    \n",
    "    OUTPUT\n",
    "    @date_point: a dataframe with `userId`, the column given, the most resent date,\n",
    "                 date point of 1 period and 2 periods before the most resent date\n",
    "    \"\"\"\n",
    "    date_point = df.select(\"userId\",col_name,\"event_date\")\\\n",
    "                    .join(most_resent,on=\"userId\",how=\"left\")\n",
    "    date_point = date_point.withColumn(\"1period_ago\",date_sub(\"most_resent\",period))\n",
    "    date_point = date_point.withColumn(\"2period_ago\",date_sub(\"most_resent\",period*2))\n",
    "    return date_point"
   ]
  },
  {
   "cell_type": "code",
   "execution_count": 18,
   "metadata": {},
   "outputs": [],
   "source": [
    "def get_records_during_periods(date_point,col_name:str):\n",
    "    \"\"\"\n",
    "    Get 2 dataframe of records which is during \"resent ~ 1period_ago\" and  \"1period_ago ~ 2period_ago\"\n",
    "    \n",
    "    INPUT:\n",
    "    @date_point : a dataframe generated from the function `get_date_point`\n",
    "    @col_name   : str, the column of activity, which should be in date_point (the same as used in `get_date_point`)\n",
    "    \n",
    "    PUTOUT:\n",
    "    @records_recent : records during most_resent and 1period_ago \n",
    "    @records_last   : records during 1period_ago and 2period_ago \n",
    "    \"\"\"\n",
    "    records_recent = date_point.select(\"userId\",col_name)\\\n",
    "                            .filter((col(\"event_date\")<col(\"most_resent\")) & (col(\"event_date\")>col(\"1period_ago\")))\\\n",
    "                            .dropna()\n",
    "\n",
    "    records_last   = date_point.select(\"userId\",col_name)\\\n",
    "                            .filter((col(\"event_date\")<col(\"1period_ago\")) & (col(\"event_date\")>col(\"2period_ago\")))\\\n",
    "                            .dropna()\n",
    "    return records_recent,records_last\n"
   ]
  },
  {
   "cell_type": "code",
   "execution_count": 17,
   "metadata": {},
   "outputs": [],
   "source": [
    "def get_record_avg(df_records,col_name:str,avg_col_name:str):\n",
    "    \"\"\"\n",
    "    Calculate the average value of records (for numerical records)\n",
    "    \n",
    "    INPUT:\n",
    "    @df_records   : contains 2 column - `userId` and the column with \"col_name\" \n",
    "                    Generally it's the output of \"get_records_during_periods\" function\n",
    "    @col_name     : str, the name of column where the average will be calculated\n",
    "    @avg_col_name : str, the name of average result\n",
    "    \n",
    "    OUTPUT:\n",
    "    @ a dataframe grouped by \"userId\", with the average result value\n",
    "    \"\"\"\n",
    "    df_records = df_records.groupBy(\"userId\")\\\n",
    "                        .agg(mean(col_name))\\\n",
    "                        .withColumnRenamed(\"avg(\"+col_name+\")\",avg_col_name)\\\n",
    "                        .drop(col_name)\n",
    "    return df_records"
   ]
  },
  {
   "cell_type": "code",
   "execution_count": 16,
   "metadata": {},
   "outputs": [],
   "source": [
    "def get_diff_between_period(df_resent, df_last, col_name1:str, col_name2:str, diff_col_name:str):\n",
    "    \"\"\"\n",
    "    Calculate the difference on two records dataframe\n",
    "    \n",
    "    INPUT\n",
    "    @df_resent     : dataframe of resent records (already grouped by `userId`)\n",
    "    @df_last       : dataframe of last records   (already grouped by `userId`)\n",
    "    @col_name1     : a col in df_resent, where there stores the records value\n",
    "    @col_name2     : a col in df_last, where there stores the records value\n",
    "    @diff_col_name : name of the column of difference result\n",
    "    \"\"\"\n",
    "    duration_change =  df_resent.join(df_last,on=\"userId\")\\\n",
    "                    .withColumn(diff_col_name, \n",
    "                                (( \n",
    "                                    df_resent.colRegex(col_name1)-\n",
    "                                    df_last.colRegex(col_name2)\n",
    "                                )) \n",
    "                               )\\\n",
    "                    .drop(col_name1,col_name2)\n",
    "    return duration_change"
   ]
  },
  {
   "cell_type": "code",
   "execution_count": 14,
   "metadata": {},
   "outputs": [],
   "source": [
    "def pivot_and_count(df_records,col_name:str):\n",
    "    \"\"\"\n",
    "    Count the number of frequency of each category in col (for categorical records)\n",
    "    \n",
    "    INPUT:\n",
    "    @df_records : dataframe of records\n",
    "    @col_name   : name of column where the value is  categorical\n",
    "    \n",
    "    OUTPUT:\n",
    "    @pivoted : a data frame where  \n",
    "               - the columns are the categories in the given column,\n",
    "               - each row starts with the \"userId\",\n",
    "               - the value in dataframe is the count number per category per user\n",
    "    \"\"\"\n",
    "    pivoted = df_records.select(\"userId\",col_name)\\\n",
    "                        .groupBy(\"userId\")\\\n",
    "                        .pivot(col_name)\\\n",
    "                        .count()\\\n",
    "                        .fillna(0)\n",
    "    return pivoted"
   ]
  },
  {
   "cell_type": "code",
   "execution_count": 20,
   "metadata": {},
   "outputs": [],
   "source": [
    "# (1) Change in usage duration\n",
    "\n",
    "col_name = \"length\"\n",
    "avg_col_name1 = \"avg_duration_recent\"\n",
    "avg_col_name2 = \"avg_duration_last\"\n",
    "diff_col_name = \"delta_avg_duration\"\n",
    "\n",
    "# get date point\n",
    "duration_date = get_date_point(df,col_name)\n",
    "\n",
    "# users duration records in specific time period\n",
    "duration_resent,duration_last = get_records_during_periods(duration_date,col_name)\n",
    "\n",
    "# calculate average usage during period\n",
    "duration_resent = get_record_avg(duration_resent,col_name,avg_col_name1)\n",
    "duration_last   = get_record_avg(duration_last  ,col_name,avg_col_name2)\n",
    "\n",
    "# calculate average duration change\n",
    "duration_change =  get_diff_between_period(duration_resent,duration_last,\n",
    "                                          avg_col_name1,avg_col_name2,\n",
    "                                          diff_col_name)\n",
    "# combine result\n",
    "user_mat = user_mat.join(duration_resent,on=\"userId\",how=\"left\")\n",
    "user_mat = user_mat.join(duration_change,on=\"userId\",how=\"left\")"
   ]
  },
  {
   "cell_type": "code",
   "execution_count": 21,
   "metadata": {},
   "outputs": [
    {
     "name": "stdout",
     "output_type": "stream",
     "text": [
      "+------+--------------------+\n",
      "|userId|  delta_avg_duration|\n",
      "+------+--------------------+\n",
      "|100010|   -10.2593935784314|\n",
      "|200002|   7.379703260869491|\n",
      "|    51| -0.8669089466685875|\n",
      "|   124|   5.010701413485322|\n",
      "|    54|  0.8294058416134646|\n",
      "|    15|  3.1510405870156717|\n",
      "|   155|   4.020502904005156|\n",
      "|   132|  -8.041101177288908|\n",
      "|   101|   2.368436019985751|\n",
      "|    11|   10.12948090517233|\n",
      "|   138|   5.696534609535348|\n",
      "|300017| -0.7926954844743364|\n",
      "|    29|  -6.773089492002896|\n",
      "|    69|   -1.36281672571522|\n",
      "|    42|-0.09412463738615884|\n",
      "|    87|  -5.435071872123842|\n",
      "|    73| -11.125306407015387|\n",
      "|    64| -28.699245714285723|\n",
      "|     3|   7.086307077921958|\n",
      "|   113| -0.8227775342437269|\n",
      "+------+--------------------+\n",
      "only showing top 20 rows\n",
      "\n"
     ]
    }
   ],
   "source": [
    "duration_change.show()"
   ]
  },
  {
   "cell_type": "code",
   "execution_count": 22,
   "metadata": {},
   "outputs": [],
   "source": [
    "# (2) Change in average items number \n",
    "\n",
    "col_name = \"itemInSession\"\n",
    "avg_col_name1 = \"avg_nb_item_recent\"\n",
    "avg_col_name2 = \"avg_nb_item_last\"\n",
    "diff_col_name = \"delta_avg_nb_item\"\n",
    "\n",
    "# get date point\n",
    "nb_item_date = get_date_point(df,col_name)\n",
    "\n",
    "# users nb_item records in specific time period\n",
    "nb_item_resent,nb_item_last = get_records_during_periods(nb_item_date,col_name)\n",
    "\n",
    "# calculate average usage during period\n",
    "nb_item_resent = get_record_avg(nb_item_resent,col_name,avg_col_name1) \n",
    "nb_item_last   = get_record_avg(nb_item_last  ,col_name,avg_col_name2)\n",
    "\n",
    "# calculate average nb_item change\n",
    "nb_item_change = get_diff_between_period(nb_item_resent,nb_item_last,\n",
    "                                        avg_col_name1,avg_col_name2,\n",
    "                                        diff_col_name)\n",
    "# combine result\n",
    "user_mat = user_mat.join(nb_item_change,on=\"userId\",how=\"left\")"
   ]
  },
  {
   "cell_type": "code",
   "execution_count": 121,
   "metadata": {},
   "outputs": [
    {
     "name": "stdout",
     "output_type": "stream",
     "text": [
      "+------+-------------------+\n",
      "|userId|  delta_avg_nb_item|\n",
      "+------+-------------------+\n",
      "|100010| 18.611111111111114|\n",
      "|200002| 15.984732824427482|\n",
      "|    51|-126.80792057444313|\n",
      "|   124| -97.46540125361959|\n",
      "|    54| 52.412565986193655|\n",
      "|    15| -91.23566506706042|\n",
      "|   155|  3.395527293406886|\n",
      "|   132| -76.57311247980736|\n",
      "|   101| 251.42880085242737|\n",
      "|    11|  53.70834229528346|\n",
      "|   138| 242.61564432664397|\n",
      "|300017|-19.874310413387924|\n",
      "|    29|  99.93030070118664|\n",
      "|    69| 116.68567484336836|\n",
      "|    42|-13.629029357513602|\n",
      "|    87|  10.70537491705375|\n",
      "|    73| -7.382640770852149|\n",
      "|    64|              13.25|\n",
      "|     3|  45.75136612021858|\n",
      "|   113| 16.102063177526524|\n",
      "+------+-------------------+\n",
      "only showing top 20 rows\n",
      "\n"
     ]
    }
   ],
   "source": [
    "nb_item_change.show()"
   ]
  },
  {
   "cell_type": "code",
   "execution_count": 23,
   "metadata": {},
   "outputs": [],
   "source": [
    "# (3) Change in the number of pages visited \n",
    "\n",
    "col_name = \"page\"\n",
    "\n",
    "# determine the time point\n",
    "page_date = get_date_point(df,col_name)\n",
    "\n",
    "# users page records in specific time period\n",
    "pages_recent, pages_last = get_records_during_periods(page_date,col_name)\n",
    "\n",
    "# users page count in a specific time period\n",
    "pages_count_recent = pivot_and_count(pages_recent,col_name)\n",
    "pages_count_last   = pivot_and_count(pages_last,col_name)\n",
    "\n",
    "# columns to keep \n",
    "keep_cols = [\"userId\", \"Thumbs Up\", \"Thumbs Down\", \"Error\", \"Roll Advert\", \"Add Friend\", \"Add to Playlist\"]\n",
    "p1 = pages_count_recent.select(keep_cols)\n",
    "p2 = pages_count_last.select(keep_cols)\n",
    "\n",
    "# calculate difference between 2 periods\n",
    "keep_cols.remove(\"userId\")\n",
    "for c in keep_cols:\n",
    "    p1 = p1.join(p2.select(\"userId\",c),on=\"userId\")\\\n",
    "            .withColumn(\"delta \"+c, (( p1.colRegex(c)-p2.colRegex(c) )) )\\\n",
    "            .drop(c)\n",
    "user_mat = user_mat.join(pages_count_recent,on=\"userId\",how=\"left\")\n",
    "user_mat = user_mat.join(p1,on=\"userId\",how=\"left\")"
   ]
  },
  {
   "cell_type": "code",
   "execution_count": 125,
   "metadata": {},
   "outputs": [
    {
     "name": "stdout",
     "output_type": "stream",
     "text": [
      "+------+---------------+-----------------+-----------+-----------------+----------------+---------------------+\n",
      "|userId|delta Thumbs Up|delta Thumbs Down|delta Error|delta Roll Advert|delta Add Friend|delta Add to Playlist|\n",
      "+------+---------------+-----------------+-----------+-----------------+----------------+---------------------+\n",
      "|100010|              1|               -1|          0|               10|              -1|                    2|\n",
      "|200002|              1|               -2|          0|                0|               0|                    1|\n",
      "|   124|            -42|              -12|          1|                0|             -29|                  -31|\n",
      "|    51|             46|               10|          1|                0|               6|                   13|\n",
      "|    54|             37|                4|          0|              -41|               2|                   16|\n",
      "|    15|              7|                2|          0|               -1|               7|                    7|\n",
      "|   155|            -10|                1|          0|               -8|               0|                   -3|\n",
      "|   132|              6|                4|          0|                0|               9|                    1|\n",
      "|   101|             75|               11|          3|               -6|              23|                   53|\n",
      "|    11|             -9|                2|          1|               -4|              -3|                    2|\n",
      "|   138|             24|               12|          1|                1|              12|                   21|\n",
      "|300017|            -36|               -4|          0|               -3|              -4|                  -15|\n",
      "|    29|             -9|               -1|          0|               -1|               4|                   -4|\n",
      "|    69|             11|                1|         -1|                0|              -1|                    8|\n",
      "|    42|            -21|                0|         -1|                0|             -11|                   -8|\n",
      "|    87|             19|                4|          0|               31|              26|                   14|\n",
      "|    73|             10|                3|          1|               -1|               5|                    9|\n",
      "|    64|              1|                0|          0|                1|               1|                    0|\n",
      "|     3|              9|                3|          0|                0|               1|                    3|\n",
      "|   113|              5|               -4|         -2|                0|               0|                   -8|\n",
      "+------+---------------+-----------------+-----------+-----------------+----------------+---------------------+\n",
      "only showing top 20 rows\n",
      "\n"
     ]
    }
   ],
   "source": [
    "p1.show()"
   ]
  },
  {
   "cell_type": "markdown",
   "metadata": {},
   "source": [
    "## 3.3 Save feature dataframe"
   ]
  },
  {
   "cell_type": "code",
   "execution_count": 24,
   "metadata": {},
   "outputs": [],
   "source": [
    "# label\n",
    "churn_flag = df.select(\"userId\",\"Churn\").distinct()\n",
    "\n",
    "user_mat = user_mat.join(churn_flag,on=\"userId\",how=\"left\")"
   ]
  },
  {
   "cell_type": "code",
   "execution_count": 29,
   "metadata": {},
   "outputs": [
    {
     "data": {
      "text/plain": [
       "Row(userId='73', gender_flag=0, registration_date=datetime.date(2018, 9, 5), most_resent=datetime.date(2018, 10, 24), tenure=49, active_days=457, level=1, upgraded=1, downgraded=0, avg_duration_recent=245.74858868913844, delta_avg_duration=-11.125306407015387, delta_avg_nb_item=-7.382640770852149, delta Thumbs Up=10, delta Thumbs Down=3, delta Error=1, delta Roll Advert=-1, delta Add Friend=5, delta Add to Playlist=9, About=1, Add Friend=8, Add to Playlist=10, Downgrade=0, Error=1, Help=2, Home=10, Logout=5, NextSong=267, Roll Advert=0, Save Settings=1, Settings=2, Submit Downgrade=0, Submit Upgrade=0, Thumbs Down=5, Thumbs Up=12, Upgrade=0, Churn=1)"
      ]
     },
     "execution_count": 29,
     "metadata": {},
     "output_type": "execute_result"
    }
   ],
   "source": [
    "user_mat.head()"
   ]
  },
  {
   "cell_type": "code",
   "execution_count": 30,
   "metadata": {},
   "outputs": [],
   "source": [
    "# save data \n",
    "user_mat.write.json(\"user_mat.json\") "
   ]
  },
  {
   "cell_type": "markdown",
   "metadata": {},
   "source": [
    "# Modeling\n",
    "Split the full dataset into train, test, and validation sets. Test out several of the machine learning methods you learned. Evaluate the accuracy of the various models, tuning parameters as necessary. Determine your winning model based on test accuracy and report results on the validation set. Since the churned users are a fairly small subset, I suggest using F1 score as the metric to optimize."
   ]
  },
  {
   "cell_type": "code",
   "execution_count": null,
   "metadata": {},
   "outputs": [],
   "source": []
  },
  {
   "cell_type": "markdown",
   "metadata": {},
   "source": [
    "# Final Steps\n",
    "Clean up your code, adding comments and renaming variables to make the code easier to read and maintain. Refer to the Spark Project Overview page and Data Scientist Capstone Project Rubric to make sure you are including all components of the capstone project and meet all expectations. Remember, this includes thorough documentation in a README file in a Github repository, as well as a web app or blog post."
   ]
  },
  {
   "cell_type": "code",
   "execution_count": null,
   "metadata": {},
   "outputs": [],
   "source": []
  }
 ],
 "metadata": {
  "kernelspec": {
   "display_name": "Python 3",
   "language": "python",
   "name": "python3"
  },
  "language_info": {
   "codemirror_mode": {
    "name": "ipython",
    "version": 3
   },
   "file_extension": ".py",
   "mimetype": "text/x-python",
   "name": "python",
   "nbconvert_exporter": "python",
   "pygments_lexer": "ipython3",
   "version": "3.7.6"
  },
  "latex_envs": {
   "LaTeX_envs_menu_present": true,
   "autoclose": false,
   "autocomplete": true,
   "bibliofile": "biblio.bib",
   "cite_by": "apalike",
   "current_citInitial": 1,
   "eqLabelWithNumbers": true,
   "eqNumInitial": 1,
   "hotkeys": {
    "equation": "Ctrl-E",
    "itemize": "Ctrl-I"
   },
   "labels_anchors": false,
   "latex_user_defs": false,
   "report_style_numbering": false,
   "user_envs_cfg": false
  },
  "toc": {
   "base_numbering": 1,
   "nav_menu": {},
   "number_sections": false,
   "sideBar": true,
   "skip_h1_title": false,
   "title_cell": "Table of Contents",
   "title_sidebar": "Contents",
   "toc_cell": false,
   "toc_position": {
    "height": "calc(100% - 180px)",
    "left": "10px",
    "top": "150px",
    "width": "188.476px"
   },
   "toc_section_display": true,
   "toc_window_display": true
  },
  "varInspector": {
   "cols": {
    "lenName": 16,
    "lenType": 16,
    "lenVar": 40
   },
   "kernels_config": {
    "python": {
     "delete_cmd_postfix": "",
     "delete_cmd_prefix": "del ",
     "library": "var_list.py",
     "varRefreshCmd": "print(var_dic_list())"
    },
    "r": {
     "delete_cmd_postfix": ") ",
     "delete_cmd_prefix": "rm(",
     "library": "var_list.r",
     "varRefreshCmd": "cat(var_dic_list()) "
    }
   },
   "types_to_exclude": [
    "module",
    "function",
    "builtin_function_or_method",
    "instance",
    "_Feature"
   ],
   "window_display": false
  }
 },
 "nbformat": 4,
 "nbformat_minor": 2
}
